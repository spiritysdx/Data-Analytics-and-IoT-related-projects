{
 "cells": [
  {
   "cell_type": "code",
   "execution_count": 1,
   "metadata": {},
   "outputs": [],
   "source": [
    "import numpy as np\n",
    "import pandas as pd\n",
    "import seaborn as sns\n",
    "import matplotlib.pyplot as plt\n",
    "from math import log\n",
    "from numpy.linalg import *\n",
    "from scipy.stats.distributions import chi2\n",
    "\n",
    "data1 = pd.read_excel(\"心电图.xlsx\")"
   ]
  },
  {
   "cell_type": "code",
   "execution_count": 2,
   "metadata": {},
   "outputs": [
    {
     "data": {
      "text/html": [
       "<div>\n",
       "<style scoped>\n",
       "    .dataframe tbody tr th:only-of-type {\n",
       "        vertical-align: middle;\n",
       "    }\n",
       "\n",
       "    .dataframe tbody tr th {\n",
       "        vertical-align: top;\n",
       "    }\n",
       "\n",
       "    .dataframe thead th {\n",
       "        text-align: right;\n",
       "    }\n",
       "</style>\n",
       "<table border=\"1\" class=\"dataframe\">\n",
       "  <thead>\n",
       "    <tr style=\"text-align: right;\">\n",
       "      <th></th>\n",
       "      <th>编号</th>\n",
       "      <th>X1</th>\n",
       "      <th>X2</th>\n",
       "      <th>g</th>\n",
       "    </tr>\n",
       "  </thead>\n",
       "  <tbody>\n",
       "    <tr>\n",
       "      <th>0</th>\n",
       "      <td>1</td>\n",
       "      <td>261.01</td>\n",
       "      <td>7.36</td>\n",
       "      <td>1</td>\n",
       "    </tr>\n",
       "    <tr>\n",
       "      <th>1</th>\n",
       "      <td>2</td>\n",
       "      <td>185.39</td>\n",
       "      <td>5.99</td>\n",
       "      <td>1</td>\n",
       "    </tr>\n",
       "    <tr>\n",
       "      <th>2</th>\n",
       "      <td>3</td>\n",
       "      <td>249.58</td>\n",
       "      <td>6.11</td>\n",
       "      <td>1</td>\n",
       "    </tr>\n",
       "    <tr>\n",
       "      <th>3</th>\n",
       "      <td>4</td>\n",
       "      <td>137.13</td>\n",
       "      <td>4.35</td>\n",
       "      <td>1</td>\n",
       "    </tr>\n",
       "    <tr>\n",
       "      <th>4</th>\n",
       "      <td>5</td>\n",
       "      <td>231.34</td>\n",
       "      <td>8.79</td>\n",
       "      <td>1</td>\n",
       "    </tr>\n",
       "    <tr>\n",
       "      <th>5</th>\n",
       "      <td>6</td>\n",
       "      <td>231.38</td>\n",
       "      <td>8.53</td>\n",
       "      <td>1</td>\n",
       "    </tr>\n",
       "    <tr>\n",
       "      <th>6</th>\n",
       "      <td>7</td>\n",
       "      <td>260.25</td>\n",
       "      <td>10.02</td>\n",
       "      <td>1</td>\n",
       "    </tr>\n",
       "    <tr>\n",
       "      <th>7</th>\n",
       "      <td>8</td>\n",
       "      <td>259.51</td>\n",
       "      <td>9.79</td>\n",
       "      <td>1</td>\n",
       "    </tr>\n",
       "    <tr>\n",
       "      <th>8</th>\n",
       "      <td>9</td>\n",
       "      <td>273.84</td>\n",
       "      <td>8.79</td>\n",
       "      <td>1</td>\n",
       "    </tr>\n",
       "    <tr>\n",
       "      <th>9</th>\n",
       "      <td>10</td>\n",
       "      <td>303.59</td>\n",
       "      <td>8.53</td>\n",
       "      <td>1</td>\n",
       "    </tr>\n",
       "    <tr>\n",
       "      <th>10</th>\n",
       "      <td>11</td>\n",
       "      <td>231.03</td>\n",
       "      <td>6.15</td>\n",
       "      <td>1</td>\n",
       "    </tr>\n",
       "    <tr>\n",
       "      <th>11</th>\n",
       "      <td>12</td>\n",
       "      <td>308.90</td>\n",
       "      <td>8.49</td>\n",
       "      <td>2</td>\n",
       "    </tr>\n",
       "    <tr>\n",
       "      <th>12</th>\n",
       "      <td>13</td>\n",
       "      <td>258.69</td>\n",
       "      <td>7.16</td>\n",
       "      <td>2</td>\n",
       "    </tr>\n",
       "    <tr>\n",
       "      <th>13</th>\n",
       "      <td>14</td>\n",
       "      <td>355.54</td>\n",
       "      <td>9.43</td>\n",
       "      <td>2</td>\n",
       "    </tr>\n",
       "    <tr>\n",
       "      <th>14</th>\n",
       "      <td>15</td>\n",
       "      <td>476.69</td>\n",
       "      <td>11.32</td>\n",
       "      <td>2</td>\n",
       "    </tr>\n",
       "    <tr>\n",
       "      <th>15</th>\n",
       "      <td>16</td>\n",
       "      <td>316.12</td>\n",
       "      <td>8.17</td>\n",
       "      <td>2</td>\n",
       "    </tr>\n",
       "    <tr>\n",
       "      <th>16</th>\n",
       "      <td>17</td>\n",
       "      <td>274.57</td>\n",
       "      <td>9.67</td>\n",
       "      <td>2</td>\n",
       "    </tr>\n",
       "    <tr>\n",
       "      <th>17</th>\n",
       "      <td>18</td>\n",
       "      <td>409.42</td>\n",
       "      <td>10.49</td>\n",
       "      <td>2</td>\n",
       "    </tr>\n",
       "    <tr>\n",
       "      <th>18</th>\n",
       "      <td>19</td>\n",
       "      <td>330.34</td>\n",
       "      <td>9.61</td>\n",
       "      <td>3</td>\n",
       "    </tr>\n",
       "    <tr>\n",
       "      <th>19</th>\n",
       "      <td>20</td>\n",
       "      <td>331.47</td>\n",
       "      <td>13.72</td>\n",
       "      <td>3</td>\n",
       "    </tr>\n",
       "    <tr>\n",
       "      <th>20</th>\n",
       "      <td>21</td>\n",
       "      <td>352.50</td>\n",
       "      <td>11.00</td>\n",
       "      <td>3</td>\n",
       "    </tr>\n",
       "    <tr>\n",
       "      <th>21</th>\n",
       "      <td>22</td>\n",
       "      <td>347.31</td>\n",
       "      <td>11.19</td>\n",
       "      <td>3</td>\n",
       "    </tr>\n",
       "    <tr>\n",
       "      <th>22</th>\n",
       "      <td>23</td>\n",
       "      <td>189.59</td>\n",
       "      <td>5.46</td>\n",
       "      <td>3</td>\n",
       "    </tr>\n",
       "  </tbody>\n",
       "</table>\n",
       "</div>"
      ],
      "text/plain": [
       "    编号      X1     X2  g\n",
       "0    1  261.01   7.36  1\n",
       "1    2  185.39   5.99  1\n",
       "2    3  249.58   6.11  1\n",
       "3    4  137.13   4.35  1\n",
       "4    5  231.34   8.79  1\n",
       "5    6  231.38   8.53  1\n",
       "6    7  260.25  10.02  1\n",
       "7    8  259.51   9.79  1\n",
       "8    9  273.84   8.79  1\n",
       "9   10  303.59   8.53  1\n",
       "10  11  231.03   6.15  1\n",
       "11  12  308.90   8.49  2\n",
       "12  13  258.69   7.16  2\n",
       "13  14  355.54   9.43  2\n",
       "14  15  476.69  11.32  2\n",
       "15  16  316.12   8.17  2\n",
       "16  17  274.57   9.67  2\n",
       "17  18  409.42  10.49  2\n",
       "18  19  330.34   9.61  3\n",
       "19  20  331.47  13.72  3\n",
       "20  21  352.50  11.00  3\n",
       "21  22  347.31  11.19  3\n",
       "22  23  189.59   5.46  3"
      ]
     },
     "execution_count": 2,
     "metadata": {},
     "output_type": "execute_result"
    }
   ],
   "source": [
    "A = data1[0:-1]\n",
    "A"
   ]
  },
  {
   "cell_type": "code",
   "execution_count": 3,
   "metadata": {},
   "outputs": [
    {
     "data": {
      "text/plain": [
       "array([380.2, 9.08], dtype=object)"
      ]
     },
     "execution_count": 3,
     "metadata": {},
     "output_type": "execute_result"
    }
   ],
   "source": [
    "B = np.array(data1[-1:])[0][1:-1]\n",
    "B"
   ]
  },
  {
   "cell_type": "code",
   "execution_count": 4,
   "metadata": {},
   "outputs": [],
   "source": [
    "g1 = A[0:11]\n",
    "g2 = A[11:18]\n",
    "g3 = A[18:]"
   ]
  },
  {
   "cell_type": "code",
   "execution_count": 5,
   "metadata": {},
   "outputs": [
    {
     "data": {
      "text/plain": [
       "array([261.01, 185.39, 249.58, 137.13, 231.34, 231.38, 260.25, 259.51,\n",
       "       273.84, 303.59, 231.03])"
      ]
     },
     "execution_count": 5,
     "metadata": {},
     "output_type": "execute_result"
    }
   ],
   "source": [
    "g1[\"X1\"].values"
   ]
  },
  {
   "cell_type": "code",
   "execution_count": 6,
   "metadata": {},
   "outputs": [],
   "source": [
    "n = 23\n",
    "k = 3\n",
    "p = 2\n",
    "n1 = 11\n",
    "n2 = 7\n",
    "n3 = 5\n",
    "f = p*(p+1)*(k-1)/2\n",
    "d = (2*pow(p, 2)+3*p-1)*(1/(n-1)+1/(n2-1)+1/(n3-1)-1/(n-k))/(6*(p+1)*(k-1))\n",
    "p1 = n1/n\n",
    "p2 = n2/n\n",
    "p3 = n3/n\n",
    "m1 = np.mean(g1)\n",
    "m2 = np.mean(g2)\n",
    "m3 = np.mean(g3)\n",
    "s1 = np.cov(np.array(g1[\"X1\"]),np.array(g1[\"X2\"]))\n",
    "s2 = np.cov(np.array(g2[\"X1\"]),np.array(g2[\"X2\"]))\n",
    "s3 = np.cov(np.array(g3[\"X1\"]),np.array(g3[\"X2\"]))\n",
    "s = ((n1-1)*s1+(n2-1)*s2+(n3-1)*s3)/(n-k)"
   ]
  },
  {
   "cell_type": "code",
   "execution_count": 7,
   "metadata": {},
   "outputs": [
    {
     "data": {
      "text/plain": [
       "array([[3748.64995114,   92.94790414],\n",
       "       [  92.94790414,    4.08295587]])"
      ]
     },
     "execution_count": 7,
     "metadata": {},
     "output_type": "execute_result"
    }
   ],
   "source": [
    "s"
   ]
  },
  {
   "cell_type": "code",
   "execution_count": 8,
   "metadata": {},
   "outputs": [],
   "source": [
    "M = (n-k)*log(det(s))-((n1-1)*log(det(s1))+(n2-1)*log(det(s2))+(n3-1)*log(det(s3)))\n",
    "T = (1-d)*M"
   ]
  },
  {
   "cell_type": "code",
   "execution_count": 9,
   "metadata": {},
   "outputs": [
    {
     "name": "stdout",
     "output_type": "stream",
     "text": [
      "协方差相等\n"
     ]
    }
   ],
   "source": [
    "C = chi2.ppf(0.95, f)\n",
    "if T < C:\n",
    "    print(\"协方差相等\")\n",
    "else:\n",
    "    print(\"协方差不相等\")"
   ]
  },
  {
   "cell_type": "code",
   "execution_count": 10,
   "metadata": {},
   "outputs": [
    {
     "data": {
      "text/plain": [
       "array([380.2, 9.08], dtype=object)"
      ]
     },
     "execution_count": 10,
     "metadata": {},
     "output_type": "execute_result"
    }
   ],
   "source": [
    "x = B\n",
    "x"
   ]
  },
  {
   "cell_type": "code",
   "execution_count": 11,
   "metadata": {},
   "outputs": [],
   "source": [
    "m1 = [m1.loc[\"X1\"],m1.loc[\"X2\"]]\n",
    "m2 = [m2.loc[\"X1\"],m2.loc[\"X2\"]]\n",
    "m3 = [m3.loc[\"X1\"],m3.loc[\"X2\"]]"
   ]
  },
  {
   "cell_type": "code",
   "execution_count": 12,
   "metadata": {},
   "outputs": [],
   "source": [
    "tp1 = m1*inv(s)*x-m1*inv(s)*np.array(m1).reshape(1,2)/2+log(p1)\n",
    "tp2 = m2*inv(s)*x-m2*inv(s)*np.array(m2).reshape(1,2)/2+log(p2)\n",
    "tp3 = m3*inv(s)*x-m3*inv(s)*np.array(m3).reshape(1,2)/2+log(p3)"
   ]
  },
  {
   "cell_type": "code",
   "execution_count": 13,
   "metadata": {},
   "outputs": [
    {
     "data": {
      "text/plain": [
       "array([[[37.38544655413162, -1.2985868805422092],\n",
       "        [-868.6032558895082, 21.88741260029191]],\n",
       "\n",
       "       [[42.65081240199972, -1.7641659214973466],\n",
       "        [-999.2099149709402, 21.983679075795074]],\n",
       "\n",
       "       [[41.24283998157414, -2.0921501998409644],\n",
       "        [-975.1538393718353, 21.304881913442273]]], dtype=object)"
      ]
     },
     "execution_count": 13,
     "metadata": {},
     "output_type": "execute_result"
    }
   ],
   "source": [
    "tps = np.array([tp1, tp2, tp3])\n",
    "tps"
   ]
  },
  {
   "cell_type": "code",
   "execution_count": 14,
   "metadata": {},
   "outputs": [
    {
     "name": "stdout",
     "output_type": "stream",
     "text": [
      "3\n"
     ]
    }
   ],
   "source": [
    "# 类别\n",
    "i = 1\n",
    "for tp in tps:\n",
    "    if tp.all() == np.max(tps.all(), axis = 0):\n",
    "        print(i)\n",
    "    i += 1"
   ]
  }
 ],
 "metadata": {
  "kernelspec": {
   "display_name": "Python 3",
   "language": "python",
   "name": "python3"
  },
  "language_info": {
   "codemirror_mode": {
    "name": "ipython",
    "version": 3
   },
   "file_extension": ".py",
   "mimetype": "text/x-python",
   "name": "python",
   "nbconvert_exporter": "python",
   "pygments_lexer": "ipython3",
   "version": "3.6.10"
  }
 },
 "nbformat": 4,
 "nbformat_minor": 4
}
