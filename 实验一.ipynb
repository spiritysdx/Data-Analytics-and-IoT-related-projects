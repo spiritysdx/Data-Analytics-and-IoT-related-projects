{
 "cells": [
  {
   "cell_type": "code",
   "execution_count": 1,
   "metadata": {},
   "outputs": [],
   "source": [
    "import numpy as np\n",
    "import pandas as pd\n",
    "import matplotlib.pyplot as plt\n",
    "import seaborn as sns\n",
    "from sklearn.model_selection import train_test_split\n",
    "from sklearn.linear_model import LinearRegression\n",
    "import statsmodels.api as sm\n",
    "import statsmodels.stats.api as sms\n",
    "import statsmodels.formula.api as smf\n",
    "import scipy\n",
    "\n",
    "plt.rcParams['font.sans-serif'] = ['SimHei'] \n",
    "plt.rcParams['axes.unicode_minus'] = False \n",
    "\n",
    "data1 = pd.read_csv('1.csv', encoding='gbk')"
   ]
  },
  {
   "cell_type": "code",
   "execution_count": 2,
   "metadata": {},
   "outputs": [],
   "source": [
    "r_hex = '#dc2624'     # red,       RGB = 220,38,36\n",
    "dt_hex = '#2b4750'    # dark teal, RGB = 43,71,80\n",
    "tl_hex = '#45a0a2'    # teal,      RGB = 69,160,162\n",
    "r1_hex = '#e87a59'    # red,       RGB = 232,122,89\n",
    "tl1_hex = '#7dcaa9'   # teal,      RGB = 125,202,169\n",
    "g_hex = '#649E7D'     # green,     RGB = 100,158,125\n",
    "o_hex = '#dc8018'     # orange,    RGB = 220,128,24\n",
    "tn_hex = '#C89F91'    # tan,       RGB = 200,159,145\n",
    "g50_hex = '#6c6d6c'   # grey-50,   RGB = 108,109,108\n",
    "bg_hex = '#4f6268'    # blue grey, RGB = 79,98,104\n",
    "g25_hex = '#c7cccf'   # grey-25,   RGB = 199,204,207"
   ]
  },
  {
   "cell_type": "code",
   "execution_count": 3,
   "metadata": {},
   "outputs": [
    {
     "data": {
      "text/html": [
       "<div>\n",
       "<style scoped>\n",
       "    .dataframe tbody tr th:only-of-type {\n",
       "        vertical-align: middle;\n",
       "    }\n",
       "\n",
       "    .dataframe tbody tr th {\n",
       "        vertical-align: top;\n",
       "    }\n",
       "\n",
       "    .dataframe thead th {\n",
       "        text-align: right;\n",
       "    }\n",
       "</style>\n",
       "<table border=\"1\" class=\"dataframe\">\n",
       "  <thead>\n",
       "    <tr style=\"text-align: right;\">\n",
       "      <th></th>\n",
       "      <th>库存资金额(x1)</th>\n",
       "      <th>广告投入(x2)</th>\n",
       "      <th>员工薪酬总额(x3)</th>\n",
       "      <th>销售额(y)</th>\n",
       "    </tr>\n",
       "    <tr>\n",
       "      <th>第n个月</th>\n",
       "      <th></th>\n",
       "      <th></th>\n",
       "      <th></th>\n",
       "      <th></th>\n",
       "    </tr>\n",
       "  </thead>\n",
       "  <tbody>\n",
       "    <tr>\n",
       "      <th>1</th>\n",
       "      <td>75.2</td>\n",
       "      <td>30.6</td>\n",
       "      <td>21.1</td>\n",
       "      <td>1090.4</td>\n",
       "    </tr>\n",
       "    <tr>\n",
       "      <th>2</th>\n",
       "      <td>77.6</td>\n",
       "      <td>31.3</td>\n",
       "      <td>21.4</td>\n",
       "      <td>1133.7</td>\n",
       "    </tr>\n",
       "    <tr>\n",
       "      <th>3</th>\n",
       "      <td>80.7</td>\n",
       "      <td>33.9</td>\n",
       "      <td>22.9</td>\n",
       "      <td>1242.1</td>\n",
       "    </tr>\n",
       "    <tr>\n",
       "      <th>4</th>\n",
       "      <td>76.0</td>\n",
       "      <td>29.6</td>\n",
       "      <td>21.4</td>\n",
       "      <td>1003.2</td>\n",
       "    </tr>\n",
       "    <tr>\n",
       "      <th>5</th>\n",
       "      <td>79.5</td>\n",
       "      <td>32.5</td>\n",
       "      <td>21.5</td>\n",
       "      <td>1283.2</td>\n",
       "    </tr>\n",
       "    <tr>\n",
       "      <th>6</th>\n",
       "      <td>81.8</td>\n",
       "      <td>27.9</td>\n",
       "      <td>21.7</td>\n",
       "      <td>1012.2</td>\n",
       "    </tr>\n",
       "    <tr>\n",
       "      <th>7</th>\n",
       "      <td>98.3</td>\n",
       "      <td>24.8</td>\n",
       "      <td>21.5</td>\n",
       "      <td>1098.8</td>\n",
       "    </tr>\n",
       "    <tr>\n",
       "      <th>8</th>\n",
       "      <td>67.7</td>\n",
       "      <td>23.6</td>\n",
       "      <td>21.0</td>\n",
       "      <td>826.3</td>\n",
       "    </tr>\n",
       "    <tr>\n",
       "      <th>9</th>\n",
       "      <td>74.0</td>\n",
       "      <td>33.9</td>\n",
       "      <td>22.4</td>\n",
       "      <td>1003.3</td>\n",
       "    </tr>\n",
       "    <tr>\n",
       "      <th>10</th>\n",
       "      <td>151.0</td>\n",
       "      <td>27.7</td>\n",
       "      <td>24.7</td>\n",
       "      <td>1554.6</td>\n",
       "    </tr>\n",
       "    <tr>\n",
       "      <th>11</th>\n",
       "      <td>90.8</td>\n",
       "      <td>45.5</td>\n",
       "      <td>23.2</td>\n",
       "      <td>1199.0</td>\n",
       "    </tr>\n",
       "    <tr>\n",
       "      <th>12</th>\n",
       "      <td>102.3</td>\n",
       "      <td>42.6</td>\n",
       "      <td>24.3</td>\n",
       "      <td>1483.1</td>\n",
       "    </tr>\n",
       "    <tr>\n",
       "      <th>13</th>\n",
       "      <td>115.6</td>\n",
       "      <td>40.0</td>\n",
       "      <td>23.1</td>\n",
       "      <td>1407.1</td>\n",
       "    </tr>\n",
       "    <tr>\n",
       "      <th>14</th>\n",
       "      <td>125.0</td>\n",
       "      <td>45.8</td>\n",
       "      <td>29.1</td>\n",
       "      <td>1551.3</td>\n",
       "    </tr>\n",
       "    <tr>\n",
       "      <th>15</th>\n",
       "      <td>137.8</td>\n",
       "      <td>51.7</td>\n",
       "      <td>24.6</td>\n",
       "      <td>1601.2</td>\n",
       "    </tr>\n",
       "    <tr>\n",
       "      <th>16</th>\n",
       "      <td>175.6</td>\n",
       "      <td>67.2</td>\n",
       "      <td>27.5</td>\n",
       "      <td>2311.7</td>\n",
       "    </tr>\n",
       "    <tr>\n",
       "      <th>17</th>\n",
       "      <td>155.2</td>\n",
       "      <td>65.0</td>\n",
       "      <td>26.5</td>\n",
       "      <td>2126.7</td>\n",
       "    </tr>\n",
       "    <tr>\n",
       "      <th>18</th>\n",
       "      <td>174.3</td>\n",
       "      <td>65.4</td>\n",
       "      <td>26.8</td>\n",
       "      <td>2256.5</td>\n",
       "    </tr>\n",
       "  </tbody>\n",
       "</table>\n",
       "</div>"
      ],
      "text/plain": [
       "      库存资金额(x1)  广告投入(x2)  员工薪酬总额(x3)  销售额(y)\n",
       "第n个月                                         \n",
       "1          75.2      30.6        21.1  1090.4\n",
       "2          77.6      31.3        21.4  1133.7\n",
       "3          80.7      33.9        22.9  1242.1\n",
       "4          76.0      29.6        21.4  1003.2\n",
       "5          79.5      32.5        21.5  1283.2\n",
       "6          81.8      27.9        21.7  1012.2\n",
       "7          98.3      24.8        21.5  1098.8\n",
       "8          67.7      23.6        21.0   826.3\n",
       "9          74.0      33.9        22.4  1003.3\n",
       "10        151.0      27.7        24.7  1554.6\n",
       "11         90.8      45.5        23.2  1199.0\n",
       "12        102.3      42.6        24.3  1483.1\n",
       "13        115.6      40.0        23.1  1407.1\n",
       "14        125.0      45.8        29.1  1551.3\n",
       "15        137.8      51.7        24.6  1601.2\n",
       "16        175.6      67.2        27.5  2311.7\n",
       "17        155.2      65.0        26.5  2126.7\n",
       "18        174.3      65.4        26.8  2256.5"
      ]
     },
     "execution_count": 3,
     "metadata": {},
     "output_type": "execute_result"
    }
   ],
   "source": [
    "data1 = data1.set_index('第n个月')\n",
    "data1"
   ]
  },
  {
   "cell_type": "code",
   "execution_count": null,
   "metadata": {},
   "outputs": [],
   "source": []
  },
  {
   "cell_type": "code",
   "execution_count": 4,
   "metadata": {},
   "outputs": [],
   "source": [
    "# fig = plt.figure(figsize=(16,10))\n",
    "# count = 1\n",
    "# for index,row in data1.iteritems():\n",
    "#     if index == \"销售额(y)\":\n",
    "#         break\n",
    "#     plt.subplot(2, 2, count)\n",
    "#     plt.plot(np.array(row), np.array(data1['销售额(y)']),'*')\n",
    "# #     plt.title(index,fontsize=20)\n",
    "#     plt.xlabel(index,fontsize=20)\n",
    "#     plt.ylabel(\"销售额(y)\",fontsize=20);\n",
    "#     count += 1\n",
    "# plt.subplots_adjust(wspace=0.28,hspace=0.28)\n",
    "# plt.show()"
   ]
  },
  {
   "cell_type": "code",
   "execution_count": 5,
   "metadata": {},
   "outputs": [
    {
     "name": "stderr",
     "output_type": "stream",
     "text": [
      "D:\\Anaconda\\envs\\python32\\lib\\site-packages\\seaborn\\axisgrid.py:2076: UserWarning: The `size` parameter has been renamed to `height`; please update your code.\n",
      "  warnings.warn(msg, UserWarning)\n"
     ]
    },
    {
     "data": {
      "image/png": "[encoded data removed]",
      "text/plain": [
       "<Figure size 756x360 with 3 Axes>"
      ]
     },
     "metadata": {
      "needs_background": "light"
     },
     "output_type": "display_data"
    }
   ],
   "source": [
    "plt.rcParams['axes.unicode_minus']=False \n",
    "sns.pairplot(data1, x_vars=data1.columns[:-1], y_vars=data1.columns[-1],kind=\"reg\", size=5, aspect=0.7)\n",
    "plt.show()"
   ]
  },
  {
   "cell_type": "code",
   "execution_count": 6,
   "metadata": {},
   "outputs": [],
   "source": [
    "# xl = []\n",
    "# for i in list(data1.columns[:-1]):\n",
    "#     xl.append(data1[i].values)\n",
    "# y = data1[data1.columns[-1]].values\n",
    "x = data1.iloc[:,0:-1]\n",
    "y = data1.iloc[:,-1]"
   ]
  },
  {
   "cell_type": "code",
   "execution_count": 7,
   "metadata": {},
   "outputs": [
    {
     "name": "stdout",
     "output_type": "stream",
     "text": [
      "模型截距:\n",
      "196.65388019672423\n",
      "参数权重:\n",
      "[ 7.13731954 13.5900369  -4.64679916]\n",
      "RMSE:\n",
      "83.5301076806782\n"
     ]
    },
    {
     "data": {
      "image/png": "[encoded data removed]",
      "text/plain": [
       "<Figure size 432x288 with 1 Axes>"
      ]
     },
     "metadata": {
      "needs_background": "light"
     },
     "output_type": "display_data"
    }
   ],
   "source": [
    "X_train, X_test, y_train, y_test = train_test_split(x, y, test_size=0.2, random_state=532)\n",
    "linreg = LinearRegression()\n",
    "model = linreg.fit(X_train, y_train)\n",
    "\n",
    "# 训练后模型截距\n",
    "print('模型截距:')\n",
    "print(linreg.intercept_)\n",
    "\n",
    "# 训练后模型权重（特征个数无变化）\n",
    "print('参数权重:')\n",
    "print(linreg.coef_)\n",
    "\n",
    "y_pred = linreg.predict(X_test)\n",
    "sum_mean = 0\n",
    "for i in range(len(y_pred)):\n",
    "    sum_mean += (y_pred[i] - y_test.values[i]) ** 2\n",
    "sum_erro = np.sqrt(sum_mean /len(y_pred))  # 级数\n",
    "\n",
    "# calculate RMSE\n",
    "print (f\"RMSE:\\n{sum_erro}\")\n",
    "\n",
    "# 学习曲线\n",
    "plt.figure()\n",
    "plt.plot(range(len(y_pred)), y_pred, 'b', label=\"predict\")\n",
    "plt.plot(range(len(y_pred)), y_test, 'r', label=\"test\")\n",
    "plt.legend(loc=\"upper right\")  # 显示图中的标签\n",
    "plt.xlabel(\"the number of sales\")\n",
    "plt.ylabel('value of sales')\n",
    "plt.show()\n"
   ]
  },
  {
   "cell_type": "code",
   "execution_count": 8,
   "metadata": {},
   "outputs": [
    {
     "name": "stderr",
     "output_type": "stream",
     "text": [
      "D:\\Anaconda\\envs\\python32\\lib\\site-packages\\scipy\\stats\\stats.py:1604: UserWarning: kurtosistest only valid for n>=20 ... continuing anyway, n=18\n",
      "  \"anyway, n=%i\" % int(n))\n"
     ]
    },
    {
     "data": {
      "text/html": [
       "<table class=\"simpletable\">\n",
       "<caption>OLS Regression Results</caption>\n",
       "<tr>\n",
       "  <th>Dep. Variable:</th>         <td>销售额(y)</td>      <th>  R-squared:         </th> <td>   0.957</td>\n",
       "</tr>\n",
       "<tr>\n",
       "  <th>Model:</th>                   <td>OLS</td>       <th>  Adj. R-squared:    </th> <td>   0.948</td>\n",
       "</tr>\n",
       "<tr>\n",
       "  <th>Method:</th>             <td>Least Squares</td>  <th>  F-statistic:       </th> <td>   105.0</td>\n",
       "</tr>\n",
       "<tr>\n",
       "  <th>Date:</th>             <td>Wed, 01 Jun 2022</td> <th>  Prob (F-statistic):</th> <td>7.79e-10</td>\n",
       "</tr>\n",
       "<tr>\n",
       "  <th>Time:</th>                 <td>18:26:34</td>     <th>  Log-Likelihood:    </th> <td> -106.25</td>\n",
       "</tr>\n",
       "<tr>\n",
       "  <th>No. Observations:</th>      <td>    18</td>      <th>  AIC:               </th> <td>   220.5</td>\n",
       "</tr>\n",
       "<tr>\n",
       "  <th>Df Residuals:</th>          <td>    14</td>      <th>  BIC:               </th> <td>   224.1</td>\n",
       "</tr>\n",
       "<tr>\n",
       "  <th>Df Model:</th>              <td>     3</td>      <th>                     </th>     <td> </td>   \n",
       "</tr>\n",
       "<tr>\n",
       "  <th>Covariance Type:</th>      <td>nonrobust</td>    <th>                     </th>     <td> </td>   \n",
       "</tr>\n",
       "</table>\n",
       "<table class=\"simpletable\">\n",
       "<tr>\n",
       "       <td></td>         <th>coef</th>     <th>std err</th>      <th>t</th>      <th>P>|t|</th>  <th>[0.025</th>    <th>0.975]</th>  \n",
       "</tr>\n",
       "<tr>\n",
       "  <th>const</th>      <td>  162.4436</td> <td>  346.263</td> <td>    0.469</td> <td> 0.646</td> <td> -580.216</td> <td>  905.103</td>\n",
       "</tr>\n",
       "<tr>\n",
       "  <th>库存资金额(x1)</th>  <td>    7.2733</td> <td>    1.353</td> <td>    5.377</td> <td> 0.000</td> <td>    4.372</td> <td>   10.175</td>\n",
       "</tr>\n",
       "<tr>\n",
       "  <th>广告投入(x2)</th>   <td>   13.9588</td> <td>    3.168</td> <td>    4.406</td> <td> 0.001</td> <td>    7.164</td> <td>   20.754</td>\n",
       "</tr>\n",
       "<tr>\n",
       "  <th>员工薪酬总额(x3)</th> <td>   -4.4139</td> <td>   19.766</td> <td>   -0.223</td> <td> 0.827</td> <td>  -46.807</td> <td>   37.980</td>\n",
       "</tr>\n",
       "</table>\n",
       "<table class=\"simpletable\">\n",
       "<tr>\n",
       "  <th>Omnibus:</th>       <td> 0.162</td> <th>  Durbin-Watson:     </th> <td>   2.246</td>\n",
       "</tr>\n",
       "<tr>\n",
       "  <th>Prob(Omnibus):</th> <td> 0.922</td> <th>  Jarque-Bera (JB):  </th> <td>   0.052</td>\n",
       "</tr>\n",
       "<tr>\n",
       "  <th>Skew:</th>          <td>-0.076</td> <th>  Prob(JB):          </th> <td>   0.974</td>\n",
       "</tr>\n",
       "<tr>\n",
       "  <th>Kurtosis:</th>      <td> 2.784</td> <th>  Cond. No.          </th> <td>1.80e+03</td>\n",
       "</tr>\n",
       "</table><br/><br/>Notes:<br/>[1] Standard Errors assume that the covariance matrix of the errors is correctly specified.<br/>[2] The condition number is large, 1.8e+03. This might indicate that there are<br/>strong multicollinearity or other numerical problems."
      ],
      "text/plain": [
       "<class 'statsmodels.iolib.summary.Summary'>\n",
       "\"\"\"\n",
       "                            OLS Regression Results                            \n",
       "==============================================================================\n",
       "Dep. Variable:                 销售额(y)   R-squared:                       0.957\n",
       "Model:                            OLS   Adj. R-squared:                  0.948\n",
       "Method:                 Least Squares   F-statistic:                     105.0\n",
       "Date:                Wed, 01 Jun 2022   Prob (F-statistic):           7.79e-10\n",
       "Time:                        18:26:34   Log-Likelihood:                -106.25\n",
       "No. Observations:                  18   AIC:                             220.5\n",
       "Df Residuals:                      14   BIC:                             224.1\n",
       "Df Model:                           3                                         \n",
       "Covariance Type:            nonrobust                                         \n",
       "==============================================================================\n",
       "                 coef    std err          t      P>|t|      [0.025      0.975]\n",
       "------------------------------------------------------------------------------\n",
       "const        162.4436    346.263      0.469      0.646    -580.216     905.103\n",
       "库存资金额(x1)      7.2733      1.353      5.377      0.000       4.372      10.175\n",
       "广告投入(x2)      13.9588      3.168      4.406      0.001       7.164      20.754\n",
       "员工薪酬总额(x3)    -4.4139     19.766     -0.223      0.827     -46.807      37.980\n",
       "==============================================================================\n",
       "Omnibus:                        0.162   Durbin-Watson:                   2.246\n",
       "Prob(Omnibus):                  0.922   Jarque-Bera (JB):                0.052\n",
       "Skew:                          -0.076   Prob(JB):                        0.974\n",
       "Kurtosis:                       2.784   Cond. No.                     1.80e+03\n",
       "==============================================================================\n",
       "\n",
       "Notes:\n",
       "[1] Standard Errors assume that the covariance matrix of the errors is correctly specified.\n",
       "[2] The condition number is large, 1.8e+03. This might indicate that there are\n",
       "strong multicollinearity or other numerical problems.\n",
       "\"\"\""
      ]
     },
     "execution_count": 8,
     "metadata": {},
     "output_type": "execute_result"
    }
   ],
   "source": [
    "x_model = sm.add_constant(x)\n",
    "model = sm.OLS(y,x_model)\n",
    "results = model.fit()\n",
    "results.summary()"
   ]
  },
  {
   "cell_type": "code",
   "execution_count": 17,
   "metadata": {},
   "outputs": [
    {
     "data": {
      "text/plain": [
       "const         162.443629\n",
       "库存资金额(x1)       7.273320\n",
       "广告投入(x2)       13.958820\n",
       "员工薪酬总额(x3)     -4.413896\n",
       "dtype: float64"
      ]
     },
     "execution_count": 17,
     "metadata": {},
     "output_type": "execute_result"
    }
   ],
   "source": [
    "# 回归系数 y = a + bx1 + cx2 +dx3\n",
    "results.params"
   ]
  },
  {
   "cell_type": "code",
   "execution_count": 10,
   "metadata": {
    "scrolled": true
   },
   "outputs": [
    {
     "data": {
      "text/html": [
       "<div>\n",
       "<style scoped>\n",
       "    .dataframe tbody tr th:only-of-type {\n",
       "        vertical-align: middle;\n",
       "    }\n",
       "\n",
       "    .dataframe tbody tr th {\n",
       "        vertical-align: top;\n",
       "    }\n",
       "\n",
       "    .dataframe thead th {\n",
       "        text-align: right;\n",
       "    }\n",
       "</style>\n",
       "<table border=\"1\" class=\"dataframe\">\n",
       "  <thead>\n",
       "    <tr style=\"text-align: right;\">\n",
       "      <th></th>\n",
       "      <th>0</th>\n",
       "      <th>1</th>\n",
       "    </tr>\n",
       "  </thead>\n",
       "  <tbody>\n",
       "    <tr>\n",
       "      <th>const</th>\n",
       "      <td>-580.215863</td>\n",
       "      <td>905.103121</td>\n",
       "    </tr>\n",
       "    <tr>\n",
       "      <th>库存资金额(x1)</th>\n",
       "      <td>4.371920</td>\n",
       "      <td>10.174721</td>\n",
       "    </tr>\n",
       "    <tr>\n",
       "      <th>广告投入(x2)</th>\n",
       "      <td>7.164057</td>\n",
       "      <td>20.753583</td>\n",
       "    </tr>\n",
       "    <tr>\n",
       "      <th>员工薪酬总额(x3)</th>\n",
       "      <td>-46.807449</td>\n",
       "      <td>37.979658</td>\n",
       "    </tr>\n",
       "  </tbody>\n",
       "</table>\n",
       "</div>"
      ],
      "text/plain": [
       "                     0           1\n",
       "const      -580.215863  905.103121\n",
       "库存资金额(x1)     4.371920   10.174721\n",
       "广告投入(x2)      7.164057   20.753583\n",
       "员工薪酬总额(x3)  -46.807449   37.979658"
      ]
     },
     "execution_count": 10,
     "metadata": {},
     "output_type": "execute_result"
    }
   ],
   "source": [
    "# 95%回归系数置信区间\n",
    "results.conf_int(0.05)"
   ]
  },
  {
   "cell_type": "code",
   "execution_count": 11,
   "metadata": {},
   "outputs": [
    {
     "data": {
      "text/plain": [
       "0.948330440354034"
      ]
     },
     "execution_count": 11,
     "metadata": {},
     "output_type": "execute_result"
    }
   ],
   "source": [
    "# 拟合优度\n",
    "results.rsquared_adj"
   ]
  },
  {
   "cell_type": "code",
   "execution_count": 12,
   "metadata": {},
   "outputs": [
    {
     "data": {
      "text/plain": [
       "105.00461184807268"
      ]
     },
     "execution_count": 12,
     "metadata": {},
     "output_type": "execute_result"
    }
   ],
   "source": [
    "# f显著性检验\n",
    "results.fvalue"
   ]
  },
  {
   "cell_type": "code",
   "execution_count": 13,
   "metadata": {},
   "outputs": [
    {
     "data": {
      "text/plain": [
       "7.78708925358444e-10"
      ]
     },
     "execution_count": 13,
     "metadata": {},
     "output_type": "execute_result"
    }
   ],
   "source": [
    "results.f_pvalue"
   ]
  },
  {
   "cell_type": "code",
   "execution_count": 14,
   "metadata": {},
   "outputs": [],
   "source": [
    "# 预测\n",
    "x1,x2,x3 = 150,45,27\n",
    "y = results.params[0]+results.params[1]*x1+results.params[2]*x2+results.params[3]*x3"
   ]
  },
  {
   "cell_type": "code",
   "execution_count": 15,
   "metadata": {},
   "outputs": [
    {
     "data": {
      "text/plain": [
       "1762.4134277432324"
      ]
     },
     "execution_count": 15,
     "metadata": {},
     "output_type": "execute_result"
    }
   ],
   "source": [
    "y"
   ]
  }
 ],
 "metadata": {
  "kernelspec": {
   "display_name": "Python 3",
   "language": "python",
   "name": "python3"
  },
  "language_info": {
   "codemirror_mode": {
    "name": "ipython",
    "version": 3
   },
   "file_extension": ".py",
   "mimetype": "text/x-python",
   "name": "python",
   "nbconvert_exporter": "python",
   "pygments_lexer": "ipython3",
   "version": "3.6.10"
  }
 },
 "nbformat": 4,
 "nbformat_minor": 4
}
