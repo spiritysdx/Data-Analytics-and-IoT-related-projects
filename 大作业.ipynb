{
 "cells": [
  {
   "cell_type": "code",
   "execution_count": 49,
   "metadata": {},
   "outputs": [],
   "source": [
    "import numpy as np\n",
    "import pandas as pd\n",
    "from sklearn import preprocessing\n",
    "\n",
    "\n",
    "\n",
    "P = pd.read_csv('AXP_NAN.csv', encoding='gbk').set_index(['Date'])\n",
    "# 201911130237\n",
    "# 李华龙"
   ]
  },
  {
   "cell_type": "code",
   "execution_count": 50,
   "metadata": {
    "scrolled": true
   },
   "outputs": [
    {
     "data": {
      "text/html": [
       "<div>\n",
       "<style scoped>\n",
       "    .dataframe tbody tr th:only-of-type {\n",
       "        vertical-align: middle;\n",
       "    }\n",
       "\n",
       "    .dataframe tbody tr th {\n",
       "        vertical-align: top;\n",
       "    }\n",
       "\n",
       "    .dataframe thead th {\n",
       "        text-align: right;\n",
       "    }\n",
       "</style>\n",
       "<table border=\"1\" class=\"dataframe\">\n",
       "  <thead>\n",
       "    <tr style=\"text-align: right;\">\n",
       "      <th></th>\n",
       "      <th>Open</th>\n",
       "      <th>High</th>\n",
       "      <th>Low</th>\n",
       "      <th>Close</th>\n",
       "      <th>Adj Close</th>\n",
       "      <th>Volume</th>\n",
       "    </tr>\n",
       "    <tr>\n",
       "      <th>Date</th>\n",
       "      <th></th>\n",
       "      <th></th>\n",
       "      <th></th>\n",
       "      <th></th>\n",
       "      <th></th>\n",
       "      <th></th>\n",
       "    </tr>\n",
       "  </thead>\n",
       "  <tbody>\n",
       "    <tr>\n",
       "      <th>2019/4/23</th>\n",
       "      <td>112.190002</td>\n",
       "      <td>114.040001</td>\n",
       "      <td>111.900002</td>\n",
       "      <td>113.970001</td>\n",
       "      <td>112.167809</td>\n",
       "      <td>3342800</td>\n",
       "    </tr>\n",
       "    <tr>\n",
       "      <th>2019/4/24</th>\n",
       "      <td>113.760002</td>\n",
       "      <td>114.360001</td>\n",
       "      <td>113.419998</td>\n",
       "      <td>114.019997</td>\n",
       "      <td>112.217010</td>\n",
       "      <td>2318400</td>\n",
       "    </tr>\n",
       "    <tr>\n",
       "      <th>2019/4/25</th>\n",
       "      <td>115.230003</td>\n",
       "      <td>116.500000</td>\n",
       "      <td>114.750000</td>\n",
       "      <td>115.879997</td>\n",
       "      <td>114.047600</td>\n",
       "      <td>4595200</td>\n",
       "    </tr>\n",
       "    <tr>\n",
       "      <th>2019/4/26</th>\n",
       "      <td>116.589996</td>\n",
       "      <td>117.730003</td>\n",
       "      <td>116.099998</td>\n",
       "      <td>117.599998</td>\n",
       "      <td>115.740402</td>\n",
       "      <td>2990600</td>\n",
       "    </tr>\n",
       "    <tr>\n",
       "      <th>2019/4/29</th>\n",
       "      <td>117.239998</td>\n",
       "      <td>117.699997</td>\n",
       "      <td>116.550003</td>\n",
       "      <td>116.760002</td>\n",
       "      <td>114.913696</td>\n",
       "      <td>3096200</td>\n",
       "    </tr>\n",
       "    <tr>\n",
       "      <th>...</th>\n",
       "      <td>...</td>\n",
       "      <td>...</td>\n",
       "      <td>...</td>\n",
       "      <td>...</td>\n",
       "      <td>...</td>\n",
       "      <td>...</td>\n",
       "    </tr>\n",
       "    <tr>\n",
       "      <th>2020/4/16</th>\n",
       "      <td>83.790001</td>\n",
       "      <td>83.940002</td>\n",
       "      <td>80.330002</td>\n",
       "      <td>81.349998</td>\n",
       "      <td>81.349998</td>\n",
       "      <td>7526600</td>\n",
       "    </tr>\n",
       "    <tr>\n",
       "      <th>2020/4/17</th>\n",
       "      <td>85.320000</td>\n",
       "      <td>87.389999</td>\n",
       "      <td>NaN</td>\n",
       "      <td>87.389999</td>\n",
       "      <td>87.389999</td>\n",
       "      <td>8269000</td>\n",
       "    </tr>\n",
       "    <tr>\n",
       "      <th>2020/4/20</th>\n",
       "      <td>NaN</td>\n",
       "      <td>85.269997</td>\n",
       "      <td>82.690002</td>\n",
       "      <td>84.010002</td>\n",
       "      <td>84.010002</td>\n",
       "      <td>6140400</td>\n",
       "    </tr>\n",
       "    <tr>\n",
       "      <th>2020/4/21</th>\n",
       "      <td>80.730003</td>\n",
       "      <td>82.459999</td>\n",
       "      <td>79.470001</td>\n",
       "      <td>81.519997</td>\n",
       "      <td>81.519997</td>\n",
       "      <td>7359600</td>\n",
       "    </tr>\n",
       "    <tr>\n",
       "      <th>2020/4/22</th>\n",
       "      <td>83.599998</td>\n",
       "      <td>83.654999</td>\n",
       "      <td>81.970001</td>\n",
       "      <td>82.540001</td>\n",
       "      <td>82.540001</td>\n",
       "      <td>4857508</td>\n",
       "    </tr>\n",
       "  </tbody>\n",
       "</table>\n",
       "<p>253 rows × 6 columns</p>\n",
       "</div>"
      ],
      "text/plain": [
       "                 Open        High         Low       Close   Adj Close   Volume\n",
       "Date                                                                          \n",
       "2019/4/23  112.190002  114.040001  111.900002  113.970001  112.167809  3342800\n",
       "2019/4/24  113.760002  114.360001  113.419998  114.019997  112.217010  2318400\n",
       "2019/4/25  115.230003  116.500000  114.750000  115.879997  114.047600  4595200\n",
       "2019/4/26  116.589996  117.730003  116.099998  117.599998  115.740402  2990600\n",
       "2019/4/29  117.239998  117.699997  116.550003  116.760002  114.913696  3096200\n",
       "...               ...         ...         ...         ...         ...      ...\n",
       "2020/4/16   83.790001   83.940002   80.330002   81.349998   81.349998  7526600\n",
       "2020/4/17   85.320000   87.389999         NaN   87.389999   87.389999  8269000\n",
       "2020/4/20         NaN   85.269997   82.690002   84.010002   84.010002  6140400\n",
       "2020/4/21   80.730003   82.459999   79.470001   81.519997   81.519997  7359600\n",
       "2020/4/22   83.599998   83.654999   81.970001   82.540001   82.540001  4857508\n",
       "\n",
       "[253 rows x 6 columns]"
      ]
     },
     "execution_count": 50,
     "metadata": {},
     "output_type": "execute_result"
    }
   ],
   "source": [
    "P"
   ]
  },
  {
   "cell_type": "code",
   "execution_count": 51,
   "metadata": {
    "scrolled": true
   },
   "outputs": [
    {
     "name": "stdout",
     "output_type": "stream",
     "text": [
      "<class 'pandas.core.frame.DataFrame'>\n",
      "Index: 253 entries, 2019/4/23 to 2020/4/22\n",
      "Data columns (total 6 columns):\n",
      " #   Column     Non-Null Count  Dtype  \n",
      "---  ------     --------------  -----  \n",
      " 0   Open       252 non-null    float64\n",
      " 1   High       253 non-null    float64\n",
      " 2   Low        252 non-null    float64\n",
      " 3   Close      252 non-null    float64\n",
      " 4   Adj Close  253 non-null    float64\n",
      " 5   Volume     253 non-null    int64  \n",
      "dtypes: float64(5), int64(1)\n",
      "memory usage: 13.8+ KB\n"
     ]
    }
   ],
   "source": [
    "P.info()"
   ]
  },
  {
   "cell_type": "code",
   "execution_count": 52,
   "metadata": {},
   "outputs": [],
   "source": [
    "for column in list(P.columns[P.isnull().sum() > 0]):\n",
    "    mean_val = P[column].mean()\n",
    "    P[column].fillna(mean_val, inplace=True)"
   ]
  },
  {
   "cell_type": "code",
   "execution_count": 53,
   "metadata": {
    "scrolled": true
   },
   "outputs": [
    {
     "name": "stdout",
     "output_type": "stream",
     "text": [
      "<class 'pandas.core.frame.DataFrame'>\n",
      "Index: 253 entries, 2019/4/23 to 2020/4/22\n",
      "Data columns (total 6 columns):\n",
      " #   Column     Non-Null Count  Dtype  \n",
      "---  ------     --------------  -----  \n",
      " 0   Open       253 non-null    float64\n",
      " 1   High       253 non-null    float64\n",
      " 2   Low        253 non-null    float64\n",
      " 3   Close      253 non-null    float64\n",
      " 4   Adj Close  253 non-null    float64\n",
      " 5   Volume     253 non-null    int64  \n",
      "dtypes: float64(5), int64(1)\n",
      "memory usage: 13.8+ KB\n"
     ]
    }
   ],
   "source": [
    "P.info()"
   ]
  },
  {
   "cell_type": "code",
   "execution_count": 54,
   "metadata": {
    "scrolled": true
   },
   "outputs": [
    {
     "data": {
      "text/html": [
       "<div>\n",
       "<style scoped>\n",
       "    .dataframe tbody tr th:only-of-type {\n",
       "        vertical-align: middle;\n",
       "    }\n",
       "\n",
       "    .dataframe tbody tr th {\n",
       "        vertical-align: top;\n",
       "    }\n",
       "\n",
       "    .dataframe thead th {\n",
       "        text-align: right;\n",
       "    }\n",
       "</style>\n",
       "<table border=\"1\" class=\"dataframe\">\n",
       "  <thead>\n",
       "    <tr style=\"text-align: right;\">\n",
       "      <th></th>\n",
       "      <th>Open</th>\n",
       "      <th>High</th>\n",
       "      <th>Low</th>\n",
       "      <th>Close</th>\n",
       "      <th>Adj Close</th>\n",
       "      <th>Volume</th>\n",
       "    </tr>\n",
       "    <tr>\n",
       "      <th>Date</th>\n",
       "      <th></th>\n",
       "      <th></th>\n",
       "      <th></th>\n",
       "      <th></th>\n",
       "      <th></th>\n",
       "      <th></th>\n",
       "    </tr>\n",
       "  </thead>\n",
       "  <tbody>\n",
       "    <tr>\n",
       "      <th>2019/4/23</th>\n",
       "      <td>112.190002</td>\n",
       "      <td>114.040001</td>\n",
       "      <td>111.900002</td>\n",
       "      <td>113.970001</td>\n",
       "      <td>112.167809</td>\n",
       "      <td>3342800</td>\n",
       "    </tr>\n",
       "    <tr>\n",
       "      <th>2019/4/24</th>\n",
       "      <td>113.760002</td>\n",
       "      <td>114.360001</td>\n",
       "      <td>113.419998</td>\n",
       "      <td>114.019997</td>\n",
       "      <td>112.217010</td>\n",
       "      <td>2318400</td>\n",
       "    </tr>\n",
       "    <tr>\n",
       "      <th>2019/4/25</th>\n",
       "      <td>115.230003</td>\n",
       "      <td>116.500000</td>\n",
       "      <td>114.750000</td>\n",
       "      <td>115.879997</td>\n",
       "      <td>114.047600</td>\n",
       "      <td>4595200</td>\n",
       "    </tr>\n",
       "    <tr>\n",
       "      <th>2019/4/26</th>\n",
       "      <td>116.589996</td>\n",
       "      <td>117.730003</td>\n",
       "      <td>116.099998</td>\n",
       "      <td>117.599998</td>\n",
       "      <td>115.740402</td>\n",
       "      <td>2990600</td>\n",
       "    </tr>\n",
       "    <tr>\n",
       "      <th>2019/4/29</th>\n",
       "      <td>117.239998</td>\n",
       "      <td>117.699997</td>\n",
       "      <td>116.550003</td>\n",
       "      <td>116.760002</td>\n",
       "      <td>114.913696</td>\n",
       "      <td>3096200</td>\n",
       "    </tr>\n",
       "    <tr>\n",
       "      <th>2019/4/30</th>\n",
       "      <td>117.050003</td>\n",
       "      <td>117.349998</td>\n",
       "      <td>116.099998</td>\n",
       "      <td>117.230003</td>\n",
       "      <td>115.376259</td>\n",
       "      <td>2387900</td>\n",
       "    </tr>\n",
       "    <tr>\n",
       "      <th>2019/5/1</th>\n",
       "      <td>117.470001</td>\n",
       "      <td>117.989998</td>\n",
       "      <td>116.930000</td>\n",
       "      <td>117.019997</td>\n",
       "      <td>115.169571</td>\n",
       "      <td>2450500</td>\n",
       "    </tr>\n",
       "    <tr>\n",
       "      <th>2019/5/2</th>\n",
       "      <td>117.000000</td>\n",
       "      <td>117.650002</td>\n",
       "      <td>116.680000</td>\n",
       "      <td>117.250000</td>\n",
       "      <td>115.395943</td>\n",
       "      <td>2538700</td>\n",
       "    </tr>\n",
       "    <tr>\n",
       "      <th>2019/5/3</th>\n",
       "      <td>117.910004</td>\n",
       "      <td>119.660004</td>\n",
       "      <td>117.629997</td>\n",
       "      <td>119.349998</td>\n",
       "      <td>117.462738</td>\n",
       "      <td>2856200</td>\n",
       "    </tr>\n",
       "    <tr>\n",
       "      <th>2019/5/6</th>\n",
       "      <td>117.260002</td>\n",
       "      <td>119.610001</td>\n",
       "      <td>117.050003</td>\n",
       "      <td>119.339996</td>\n",
       "      <td>117.452888</td>\n",
       "      <td>2924500</td>\n",
       "    </tr>\n",
       "  </tbody>\n",
       "</table>\n",
       "</div>"
      ],
      "text/plain": [
       "                 Open        High         Low       Close   Adj Close   Volume\n",
       "Date                                                                          \n",
       "2019/4/23  112.190002  114.040001  111.900002  113.970001  112.167809  3342800\n",
       "2019/4/24  113.760002  114.360001  113.419998  114.019997  112.217010  2318400\n",
       "2019/4/25  115.230003  116.500000  114.750000  115.879997  114.047600  4595200\n",
       "2019/4/26  116.589996  117.730003  116.099998  117.599998  115.740402  2990600\n",
       "2019/4/29  117.239998  117.699997  116.550003  116.760002  114.913696  3096200\n",
       "2019/4/30  117.050003  117.349998  116.099998  117.230003  115.376259  2387900\n",
       "2019/5/1   117.470001  117.989998  116.930000  117.019997  115.169571  2450500\n",
       "2019/5/2   117.000000  117.650002  116.680000  117.250000  115.395943  2538700\n",
       "2019/5/3   117.910004  119.660004  117.629997  119.349998  117.462738  2856200\n",
       "2019/5/6   117.260002  119.610001  117.050003  119.339996  117.452888  2924500"
      ]
     },
     "execution_count": 54,
     "metadata": {},
     "output_type": "execute_result"
    }
   ],
   "source": [
    "P.head(10)"
   ]
  },
  {
   "cell_type": "code",
   "execution_count": 59,
   "metadata": {},
   "outputs": [
    {
     "data": {
      "image/png": "[encoded data removed]",
      "text/plain": [
       "<Figure size 432x288 with 1 Axes>"
      ]
     },
     "metadata": {
      "needs_background": "light"
     },
     "output_type": "display_data"
    }
   ],
   "source": [
    "import matplotlib.pyplot as plt\n",
    "import numpy as np\n",
    "import math\n",
    "\n",
    "plt.rcParams['font.sans-serif'] = ['SimHei'] \n",
    "plt.rcParams['axes.unicode_minus'] = False \n",
    "\n",
    "x = np.arange(0, 10, 0.2)        #从1到9，间隔1取点\n",
    "\n",
    "plt.plot(x,[math.sin(i) for i in x],\"g-\") #\"r\"为红色, \"s\"为方块, \"-\"为实线\n",
    "plt.suptitle(\"COS2X函数图像\")\n",
    "plt.xlabel(\"X\")\n",
    "plt.ylabel(\"Y\")\n",
    "plt.show()"
   ]
  },
  {
   "cell_type": "code",
   "execution_count": 60,
   "metadata": {},
   "outputs": [
    {
     "data": {
      "image/png": "[encoded data removed]",
      "text/plain": [
       "<Figure size 432x288 with 1 Axes>"
      ]
     },
     "metadata": {
      "needs_background": "light"
     },
     "output_type": "display_data"
    }
   ],
   "source": [
    "plt.plot(x,[math.sin(i) for i in x],\"g-\") #\"r\"为红色, \"s\"为方块, \"-\"为实线\n",
    "plt.suptitle(\"COS2X函数图像\")\n",
    "plt.xlabel(\"X\")\n",
    "plt.ylabel(\"Y\")\n",
    "plt.savefig(\"cos1.png\")"
   ]
  },
  {
   "cell_type": "code",
   "execution_count": null,
   "metadata": {},
   "outputs": [],
   "source": []
  }
 ],
 "metadata": {
  "kernelspec": {
   "display_name": "Python 3",
   "language": "python",
   "name": "python3"
  },
  "language_info": {
   "codemirror_mode": {
    "name": "ipython",
    "version": 3
   },
   "file_extension": ".py",
   "mimetype": "text/x-python",
   "name": "python",
   "nbconvert_exporter": "python",
   "pygments_lexer": "ipython3",
   "version": "3.6.10"
  }
 },
 "nbformat": 4,
 "nbformat_minor": 4
}
